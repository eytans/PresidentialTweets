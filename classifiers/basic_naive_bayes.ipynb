{
 "cells": [
  {
   "cell_type": "code",
   "execution_count": 1,
   "metadata": {
    "collapsed": true
   },
   "outputs": [],
   "source": [
    "import numpy as np\n",
    "import pandas as pd"
   ]
  },
  {
   "cell_type": "code",
   "execution_count": 2,
   "metadata": {
    "collapsed": true
   },
   "outputs": [],
   "source": [
    "# load data\n",
    "train = pd.read_csv('tweets_train.csv')\n",
    "test = pd.read_csv('tweets_test.csv')\n"
   ]
  },
  {
   "cell_type": "code",
   "execution_count": 3,
   "metadata": {
    "collapsed": false
   },
   "outputs": [],
   "source": [
    "# map hanle to category\n",
    "def allocate_category(handle):\n",
    "    if (handle == 'HillaryClinton'):\n",
    "        return 0\n",
    "    else:\n",
    "        return 1\n",
    "train['category'] = train['handle'].map(lambda handle: allocate_category(handle))"
   ]
  },
  {
   "cell_type": "code",
   "execution_count": 4,
   "metadata": {
    "collapsed": false
   },
   "outputs": [],
   "source": [
    "# create naive bayse classifyier based on text\n",
    "from sklearn.feature_extraction.text import CountVectorizer\n",
    "from sklearn.feature_extraction.text import TfidfTransformer\n",
    "from sklearn.naive_bayes import MultinomialNB\n",
    "from sklearn.pipeline import Pipeline\n",
    "text_clf = Pipeline([('vect', CountVectorizer()), ('tfidf', TfidfTransformer()), ('clf', MultinomialNB())])\n"
   ]
  },
  {
   "cell_type": "code",
   "execution_count": 5,
   "metadata": {
    "collapsed": false
   },
   "outputs": [
    {
     "name": "stdout",
     "output_type": "stream",
     "text": [
      "('average cross-validation error on train-set is: ', 0.81215581972387318)\n"
     ]
    }
   ],
   "source": [
    "# use cross-validation to approximate classifier generallity error\n",
    "from sklearn.model_selection import cross_val_score\n",
    "scores = cross_val_score(text_clf, train.text, train.category, cv=10)\n",
    "print('average cross-validation error on train-set is: ', scores.mean())"
   ]
  },
  {
   "cell_type": "code",
   "execution_count": 6,
   "metadata": {
    "collapsed": false
   },
   "outputs": [],
   "source": [
    "# predicting results\n",
    "_ = text_clf.fit(train.text,train.category)\n",
    "test['category'] = text_clf.predict(test.text)\n",
    "def category_2_candidate(category):\n",
    "    if (category == 0):\n",
    "        return 'HillaryClinton'\n",
    "    else:\n",
    "        return 'realDonaldTrump'\n",
    "test['handle'] = test['category'].map(lambda category: category_2_candidate(category))"
   ]
  },
  {
   "cell_type": "code",
   "execution_count": 7,
   "metadata": {
    "collapsed": false
   },
   "outputs": [],
   "source": [
    "# saving results\n",
    "del test['category'] # deleting helper coloumn \n",
    "test.to_csv('Basic_tweets_test.csv',encoding='utf8',index = False)"
   ]
  },
  {
   "cell_type": "code",
   "execution_count": 8,
   "metadata": {
    "collapsed": false
   },
   "outputs": [
    {
     "data": {
      "text/html": [
       "<div>\n",
       "<table border=\"1\" class=\"dataframe\">\n",
       "  <thead>\n",
       "    <tr style=\"text-align: right;\">\n",
       "      <th></th>\n",
       "      <th>id</th>\n",
       "      <th>handle</th>\n",
       "      <th>text</th>\n",
       "      <th>is_retweet</th>\n",
       "      <th>original_author</th>\n",
       "      <th>time</th>\n",
       "      <th>in_reply_to_screen_name</th>\n",
       "      <th>is_quote_status</th>\n",
       "      <th>lang</th>\n",
       "      <th>retweet_count</th>\n",
       "      <th>favorite_count</th>\n",
       "    </tr>\n",
       "  </thead>\n",
       "  <tbody>\n",
       "    <tr>\n",
       "      <th>0</th>\n",
       "      <td>7.340000e+17</td>\n",
       "      <td>HillaryClinton</td>\n",
       "      <td>#MichaelBrown would have been 20 years old tod...</td>\n",
       "      <td>True</td>\n",
       "      <td>LSD_Esq</td>\n",
       "      <td>2016-05-20T18:07:08</td>\n",
       "      <td>NaN</td>\n",
       "      <td>False</td>\n",
       "      <td>en</td>\n",
       "      <td>594</td>\n",
       "      <td>1096</td>\n",
       "    </tr>\n",
       "    <tr>\n",
       "      <th>1</th>\n",
       "      <td>7.340000e+17</td>\n",
       "      <td>HillaryClinton</td>\n",
       "      <td>Congratulations on becoming a U.S. citizen, Al...</td>\n",
       "      <td>False</td>\n",
       "      <td>NaN</td>\n",
       "      <td>2016-05-20T17:24:12</td>\n",
       "      <td>NaN</td>\n",
       "      <td>False</td>\n",
       "      <td>en</td>\n",
       "      <td>1701</td>\n",
       "      <td>4239</td>\n",
       "    </tr>\n",
       "    <tr>\n",
       "      <th>2</th>\n",
       "      <td>7.340000e+17</td>\n",
       "      <td>HillaryClinton</td>\n",
       "      <td>We need a president who will unite leaders aro...</td>\n",
       "      <td>False</td>\n",
       "      <td>NaN</td>\n",
       "      <td>2016-05-20T17:12:52</td>\n",
       "      <td>NaN</td>\n",
       "      <td>False</td>\n",
       "      <td>en</td>\n",
       "      <td>1817</td>\n",
       "      <td>3577</td>\n",
       "    </tr>\n",
       "    <tr>\n",
       "      <th>3</th>\n",
       "      <td>7.340000e+17</td>\n",
       "      <td>HillaryClinton</td>\n",
       "      <td>Dear Congress,\\r\\n\\r\\nLet's get this done.\\r\\n...</td>\n",
       "      <td>False</td>\n",
       "      <td>NaN</td>\n",
       "      <td>2016-05-20T16:21:13</td>\n",
       "      <td>NaN</td>\n",
       "      <td>False</td>\n",
       "      <td>en</td>\n",
       "      <td>2530</td>\n",
       "      <td>6012</td>\n",
       "    </tr>\n",
       "    <tr>\n",
       "      <th>4</th>\n",
       "      <td>7.340000e+17</td>\n",
       "      <td>realDonaldTrump</td>\n",
       "      <td>Failing @NYTimes will always take a good story...</td>\n",
       "      <td>False</td>\n",
       "      <td>NaN</td>\n",
       "      <td>2016-05-20T16:11:21</td>\n",
       "      <td>NaN</td>\n",
       "      <td>False</td>\n",
       "      <td>en</td>\n",
       "      <td>3750</td>\n",
       "      <td>12372</td>\n",
       "    </tr>\n",
       "  </tbody>\n",
       "</table>\n",
       "</div>"
      ],
      "text/plain": [
       "             id           handle  \\\n",
       "0  7.340000e+17   HillaryClinton   \n",
       "1  7.340000e+17   HillaryClinton   \n",
       "2  7.340000e+17   HillaryClinton   \n",
       "3  7.340000e+17   HillaryClinton   \n",
       "4  7.340000e+17  realDonaldTrump   \n",
       "\n",
       "                                                text is_retweet  \\\n",
       "0  #MichaelBrown would have been 20 years old tod...       True   \n",
       "1  Congratulations on becoming a U.S. citizen, Al...      False   \n",
       "2  We need a president who will unite leaders aro...      False   \n",
       "3  Dear Congress,\\r\\n\\r\\nLet's get this done.\\r\\n...      False   \n",
       "4  Failing @NYTimes will always take a good story...      False   \n",
       "\n",
       "  original_author                 time in_reply_to_screen_name  \\\n",
       "0         LSD_Esq  2016-05-20T18:07:08                     NaN   \n",
       "1             NaN  2016-05-20T17:24:12                     NaN   \n",
       "2             NaN  2016-05-20T17:12:52                     NaN   \n",
       "3             NaN  2016-05-20T16:21:13                     NaN   \n",
       "4             NaN  2016-05-20T16:11:21                     NaN   \n",
       "\n",
       "  is_quote_status lang  retweet_count  favorite_count  \n",
       "0           False   en            594            1096  \n",
       "1           False   en           1701            4239  \n",
       "2           False   en           1817            3577  \n",
       "3           False   en           2530            6012  \n",
       "4           False   en           3750           12372  "
      ]
     },
     "execution_count": 8,
     "metadata": {},
     "output_type": "execute_result"
    }
   ],
   "source": [
    "# validating results\n",
    "test_from_save = pd.read_csv('Basic_tweets_test.csv')\n",
    "test_from_save.head()"
   ]
  },
  {
   "cell_type": "code",
   "execution_count": null,
   "metadata": {
    "collapsed": true
   },
   "outputs": [],
   "source": []
  },
  {
   "cell_type": "code",
   "execution_count": null,
   "metadata": {
    "collapsed": true
   },
   "outputs": [],
   "source": []
  }
 ],
 "metadata": {
  "anaconda-cloud": {},
  "kernelspec": {
   "display_name": "Python [conda root]",
   "language": "python",
   "name": "conda-root-py"
  },
  "language_info": {
   "codemirror_mode": {
    "name": "ipython",
    "version": 2
   },
   "file_extension": ".py",
   "mimetype": "text/x-python",
   "name": "python",
   "nbconvert_exporter": "python",
   "pygments_lexer": "ipython2",
   "version": "2.7.12"
  }
 },
 "nbformat": 4,
 "nbformat_minor": 1
}
