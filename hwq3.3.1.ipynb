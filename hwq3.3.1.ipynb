{
 "cells": [
  {
   "cell_type": "code",
   "execution_count": 2,
   "metadata": {
    "collapsed": false
   },
   "outputs": [],
   "source": [
    "import numpy as np\n",
    "import pandas as pd\n",
    "import sklearn.linear_model as lm\n",
    "from sklearn.model_selection import GridSearchCV\n",
    "import matplotlib.pyplot as plt\n",
    "%matplotlib inline"
   ]
  },
  {
   "cell_type": "code",
   "execution_count": 3,
   "metadata": {
    "collapsed": true
   },
   "outputs": [],
   "source": [
    "train = pd.read_csv('~/work/PresidentialTweets/tweets_train.csv')\n",
    "test = pd.read_csv('~/work/PresidentialTweets/tweets_test.csv')"
   ]
  },
  {
   "cell_type": "markdown",
   "metadata": {},
   "source": [
    "# Analyzing data"
   ]
  },
  {
   "cell_type": "markdown",
   "metadata": {},
   "source": [
    "We will start with basic data profiling to so where were at.\n",
    "\n",
    "First test and train:"
   ]
  },
  {
   "cell_type": "code",
   "execution_count": 4,
   "metadata": {
    "collapsed": false
   },
   "outputs": [
    {
     "name": "stdout",
     "output_type": "stream",
     "text": [
      "Dimension of train data (3999, 9)\n",
      "Dimension of test data (2349, 11)\n",
      "Basic statistical description:\n"
     ]
    },
    {
     "data": {
      "text/html": [
       "<div style=\"max-width:1500px;overflow:auto;\">\n",
       "<table border=\"1\" class=\"dataframe\">\n",
       "  <thead>\n",
       "    <tr style=\"text-align: right;\">\n",
       "      <th></th>\n",
       "      <th>id</th>\n",
       "      <th>retweet_count</th>\n",
       "      <th>favorite_count</th>\n",
       "    </tr>\n",
       "  </thead>\n",
       "  <tbody>\n",
       "    <tr>\n",
       "      <th>count</th>\n",
       "      <td>3.999000e+03</td>\n",
       "      <td>3999.000000</td>\n",
       "      <td>3999.000000</td>\n",
       "    </tr>\n",
       "    <tr>\n",
       "      <th>mean</th>\n",
       "      <td>7.594926e+17</td>\n",
       "      <td>4964.529632</td>\n",
       "      <td>12911.969742</td>\n",
       "    </tr>\n",
       "    <tr>\n",
       "      <th>std</th>\n",
       "      <td>1.278198e+16</td>\n",
       "      <td>10017.445651</td>\n",
       "      <td>18009.926718</td>\n",
       "    </tr>\n",
       "    <tr>\n",
       "      <th>min</th>\n",
       "      <td>7.350000e+17</td>\n",
       "      <td>123.000000</td>\n",
       "      <td>415.000000</td>\n",
       "    </tr>\n",
       "    <tr>\n",
       "      <th>25%</th>\n",
       "      <td>7.500000e+17</td>\n",
       "      <td>1409.000000</td>\n",
       "      <td>3644.000000</td>\n",
       "    </tr>\n",
       "    <tr>\n",
       "      <th>50%</th>\n",
       "      <td>7.580000e+17</td>\n",
       "      <td>2980.000000</td>\n",
       "      <td>7537.000000</td>\n",
       "    </tr>\n",
       "    <tr>\n",
       "      <th>75%</th>\n",
       "      <td>7.700000e+17</td>\n",
       "      <td>6213.500000</td>\n",
       "      <td>17551.500000</td>\n",
       "    </tr>\n",
       "    <tr>\n",
       "      <th>max</th>\n",
       "      <td>7.810000e+17</td>\n",
       "      <td>490180.000000</td>\n",
       "      <td>660384.000000</td>\n",
       "    </tr>\n",
       "  </tbody>\n",
       "</table>\n",
       "</div>"
      ],
      "text/plain": [
       "                 id  retweet_count  favorite_count\n",
       "count  3.999000e+03    3999.000000     3999.000000\n",
       "mean   7.594926e+17    4964.529632    12911.969742\n",
       "std    1.278198e+16   10017.445651    18009.926718\n",
       "min    7.350000e+17     123.000000      415.000000\n",
       "25%    7.500000e+17    1409.000000     3644.000000\n",
       "50%    7.580000e+17    2980.000000     7537.000000\n",
       "75%    7.700000e+17    6213.500000    17551.500000\n",
       "max    7.810000e+17  490180.000000   660384.000000"
      ]
     },
     "execution_count": 4,
     "metadata": {},
     "output_type": "execute_result"
    }
   ],
   "source": [
    "print (\"Dimension of train data {}\".format(train.shape))\n",
    "print (\"Dimension of test data {}\".format(test.shape))\n",
    "print (\"Basic statistical description:\")\n",
    "train.describe()"
   ]
  },
  {
   "cell_type": "code",
   "execution_count": 61,
   "metadata": {
    "collapsed": false
   },
   "outputs": [
    {
     "data": {
      "text/html": [
       "<div style=\"max-width:1500px;overflow:auto;\">\n",
       "<table border=\"1\" class=\"dataframe\">\n",
       "  <thead>\n",
       "    <tr style=\"text-align: right;\">\n",
       "      <th></th>\n",
       "      <th>id</th>\n",
       "      <th>handle</th>\n",
       "      <th>retweet_count</th>\n",
       "      <th>favorite_count</th>\n",
       "    </tr>\n",
       "  </thead>\n",
       "  <tbody>\n",
       "    <tr>\n",
       "      <th>count</th>\n",
       "      <td>2.349000e+03</td>\n",
       "      <td>0.0</td>\n",
       "      <td>2349.000000</td>\n",
       "      <td>2349.000000</td>\n",
       "    </tr>\n",
       "    <tr>\n",
       "      <th>mean</th>\n",
       "      <td>7.108067e+17</td>\n",
       "      <td>NaN</td>\n",
       "      <td>3454.904640</td>\n",
       "      <td>9569.874415</td>\n",
       "    </tr>\n",
       "    <tr>\n",
       "      <th>std</th>\n",
       "      <td>1.498040e+16</td>\n",
       "      <td>NaN</td>\n",
       "      <td>3174.856432</td>\n",
       "      <td>7374.142302</td>\n",
       "    </tr>\n",
       "    <tr>\n",
       "      <th>min</th>\n",
       "      <td>6.840000e+17</td>\n",
       "      <td>NaN</td>\n",
       "      <td>169.000000</td>\n",
       "      <td>307.000000</td>\n",
       "    </tr>\n",
       "    <tr>\n",
       "      <th>25%</th>\n",
       "      <td>6.980000e+17</td>\n",
       "      <td>NaN</td>\n",
       "      <td>1538.000000</td>\n",
       "      <td>4508.000000</td>\n",
       "    </tr>\n",
       "    <tr>\n",
       "      <th>50%</th>\n",
       "      <td>7.100000e+17</td>\n",
       "      <td>NaN</td>\n",
       "      <td>2682.000000</td>\n",
       "      <td>7850.000000</td>\n",
       "    </tr>\n",
       "    <tr>\n",
       "      <th>75%</th>\n",
       "      <td>7.250000e+17</td>\n",
       "      <td>NaN</td>\n",
       "      <td>4473.000000</td>\n",
       "      <td>12944.000000</td>\n",
       "    </tr>\n",
       "    <tr>\n",
       "      <th>max</th>\n",
       "      <td>7.340000e+17</td>\n",
       "      <td>NaN</td>\n",
       "      <td>82653.000000</td>\n",
       "      <td>115107.000000</td>\n",
       "    </tr>\n",
       "  </tbody>\n",
       "</table>\n",
       "</div>"
      ],
      "text/plain": [
       "                 id  handle  retweet_count  favorite_count\n",
       "count  2.349000e+03     0.0    2349.000000     2349.000000\n",
       "mean   7.108067e+17     NaN    3454.904640     9569.874415\n",
       "std    1.498040e+16     NaN    3174.856432     7374.142302\n",
       "min    6.840000e+17     NaN     169.000000      307.000000\n",
       "25%    6.980000e+17     NaN    1538.000000     4508.000000\n",
       "50%    7.100000e+17     NaN    2682.000000     7850.000000\n",
       "75%    7.250000e+17     NaN    4473.000000    12944.000000\n",
       "max    7.340000e+17     NaN   82653.000000   115107.000000"
      ]
     },
     "execution_count": 61,
     "metadata": {},
     "output_type": "execute_result"
    }
   ],
   "source": [
    "test.describe()"
   ]
  },
  {
   "cell_type": "markdown",
   "metadata": {},
   "source": [
    "We can see there are almost two times more samples in train and so when were checkig distributions we need to take this into account.\n",
    "Also we should take into account that although retweet and favorite count have the same median the top 75% already shows bias which might influence in favour of one candidate and may yield better results if we have a better prior there.\n",
    "\n",
    "Now some comparisons between data on trump vs hillary:"
   ]
  },
  {
   "cell_type": "code",
   "execution_count": 4,
   "metadata": {
    "collapsed": false
   },
   "outputs": [
    {
     "name": "stdout",
     "output_type": "stream",
     "text": [
      "2724\n"
     ]
    },
    {
     "data": {
      "text/html": [
       "<div>\n",
       "<table border=\"1\" class=\"dataframe\">\n",
       "  <thead>\n",
       "    <tr style=\"text-align: right;\">\n",
       "      <th></th>\n",
       "      <th>id</th>\n",
       "      <th>retweet_count</th>\n",
       "      <th>favorite_count</th>\n",
       "    </tr>\n",
       "  </thead>\n",
       "  <tbody>\n",
       "    <tr>\n",
       "      <th>count</th>\n",
       "      <td>2.724000e+03</td>\n",
       "      <td>2724.000000</td>\n",
       "      <td>2724.000000</td>\n",
       "    </tr>\n",
       "    <tr>\n",
       "      <th>mean</th>\n",
       "      <td>7.601413e+17</td>\n",
       "      <td>3264.672907</td>\n",
       "      <td>7379.947137</td>\n",
       "    </tr>\n",
       "    <tr>\n",
       "      <th>std</th>\n",
       "      <td>1.256154e+16</td>\n",
       "      <td>10518.057451</td>\n",
       "      <td>15833.686327</td>\n",
       "    </tr>\n",
       "    <tr>\n",
       "      <th>min</th>\n",
       "      <td>7.350000e+17</td>\n",
       "      <td>123.000000</td>\n",
       "      <td>415.000000</td>\n",
       "    </tr>\n",
       "    <tr>\n",
       "      <th>25%</th>\n",
       "      <td>7.510000e+17</td>\n",
       "      <td>1119.000000</td>\n",
       "      <td>2846.500000</td>\n",
       "    </tr>\n",
       "    <tr>\n",
       "      <th>50%</th>\n",
       "      <td>7.590000e+17</td>\n",
       "      <td>1880.000000</td>\n",
       "      <td>4746.000000</td>\n",
       "    </tr>\n",
       "    <tr>\n",
       "      <th>75%</th>\n",
       "      <td>7.710000e+17</td>\n",
       "      <td>3330.250000</td>\n",
       "      <td>7941.750000</td>\n",
       "    </tr>\n",
       "    <tr>\n",
       "      <th>max</th>\n",
       "      <td>7.810000e+17</td>\n",
       "      <td>490180.000000</td>\n",
       "      <td>660384.000000</td>\n",
       "    </tr>\n",
       "  </tbody>\n",
       "</table>\n",
       "</div>"
      ],
      "text/plain": [
       "                 id  retweet_count  favorite_count\n",
       "count  2.724000e+03    2724.000000     2724.000000\n",
       "mean   7.601413e+17    3264.672907     7379.947137\n",
       "std    1.256154e+16   10518.057451    15833.686327\n",
       "min    7.350000e+17     123.000000      415.000000\n",
       "25%    7.510000e+17    1119.000000     2846.500000\n",
       "50%    7.590000e+17    1880.000000     4746.000000\n",
       "75%    7.710000e+17    3330.250000     7941.750000\n",
       "max    7.810000e+17  490180.000000   660384.000000"
      ]
     },
     "execution_count": 4,
     "metadata": {},
     "output_type": "execute_result"
    }
   ],
   "source": [
    "hilary = train.loc[train.handle == 'HillaryClinton']\n",
    "print(len(hilary))\n",
    "hilary.describe()"
   ]
  },
  {
   "cell_type": "code",
   "execution_count": 5,
   "metadata": {
    "collapsed": false
   },
   "outputs": [
    {
     "name": "stdout",
     "output_type": "stream",
     "text": [
      "1275\n"
     ]
    },
    {
     "data": {
      "text/html": [
       "<div>\n",
       "<table border=\"1\" class=\"dataframe\">\n",
       "  <thead>\n",
       "    <tr style=\"text-align: right;\">\n",
       "      <th></th>\n",
       "      <th>id</th>\n",
       "      <th>retweet_count</th>\n",
       "      <th>favorite_count</th>\n",
       "    </tr>\n",
       "  </thead>\n",
       "  <tbody>\n",
       "    <tr>\n",
       "      <th>count</th>\n",
       "      <td>1.275000e+03</td>\n",
       "      <td>1275.000000</td>\n",
       "      <td>1275.000000</td>\n",
       "    </tr>\n",
       "    <tr>\n",
       "      <th>mean</th>\n",
       "      <td>7.581067e+17</td>\n",
       "      <td>8596.223529</td>\n",
       "      <td>24730.973333</td>\n",
       "    </tr>\n",
       "    <tr>\n",
       "      <th>std</th>\n",
       "      <td>1.313872e+16</td>\n",
       "      <td>7686.186621</td>\n",
       "      <td>16637.305561</td>\n",
       "    </tr>\n",
       "    <tr>\n",
       "      <th>min</th>\n",
       "      <td>7.350000e+17</td>\n",
       "      <td>1165.000000</td>\n",
       "      <td>5166.000000</td>\n",
       "    </tr>\n",
       "    <tr>\n",
       "      <th>25%</th>\n",
       "      <td>7.470000e+17</td>\n",
       "      <td>4834.500000</td>\n",
       "      <td>14838.000000</td>\n",
       "    </tr>\n",
       "    <tr>\n",
       "      <th>50%</th>\n",
       "      <td>7.580000e+17</td>\n",
       "      <td>7159.000000</td>\n",
       "      <td>21540.000000</td>\n",
       "    </tr>\n",
       "    <tr>\n",
       "      <th>75%</th>\n",
       "      <td>7.690000e+17</td>\n",
       "      <td>10215.500000</td>\n",
       "      <td>29469.000000</td>\n",
       "    </tr>\n",
       "    <tr>\n",
       "      <th>max</th>\n",
       "      <td>7.810000e+17</td>\n",
       "      <td>167274.000000</td>\n",
       "      <td>294162.000000</td>\n",
       "    </tr>\n",
       "  </tbody>\n",
       "</table>\n",
       "</div>"
      ],
      "text/plain": [
       "                 id  retweet_count  favorite_count\n",
       "count  1.275000e+03    1275.000000     1275.000000\n",
       "mean   7.581067e+17    8596.223529    24730.973333\n",
       "std    1.313872e+16    7686.186621    16637.305561\n",
       "min    7.350000e+17    1165.000000     5166.000000\n",
       "25%    7.470000e+17    4834.500000    14838.000000\n",
       "50%    7.580000e+17    7159.000000    21540.000000\n",
       "75%    7.690000e+17   10215.500000    29469.000000\n",
       "max    7.810000e+17  167274.000000   294162.000000"
      ]
     },
     "execution_count": 5,
     "metadata": {},
     "output_type": "execute_result"
    }
   ],
   "source": [
    "trump = train.loc[train.handle != 'HillaryClinton']\n",
    "print(len(trump))\n",
    "trump.describe()"
   ]
  },
  {
   "cell_type": "markdown",
   "metadata": {},
   "source": [
    "first thing to notice is that trump has about half of the tweets and that should be taken into account in the analasys. Also looking at the favorite count we see trump is a clear leader and the test data shouldn'e worry us as even though the test tweets were less popular the above 75 percent will not be problamatic as in both places they are probably trump and the destribution is the same sort of. in retweet count it doesn't affect us because of the same reasons."
   ]
  },
  {
   "cell_type": "markdown",
   "metadata": {},
   "source": [
    "#### Looking at the attributes:"
   ]
  },
  {
   "cell_type": "code",
   "execution_count": 13,
   "metadata": {
    "collapsed": false
   },
   "outputs": [
    {
     "data": {
      "text/html": [
       "<div style=\"max-width:1500px;overflow:auto;\">\n",
       "<table border=\"1\" class=\"dataframe\">\n",
       "  <thead>\n",
       "    <tr style=\"text-align: right;\">\n",
       "      <th></th>\n",
       "      <th>id</th>\n",
       "      <th>handle</th>\n",
       "      <th>text</th>\n",
       "      <th>is_retweet</th>\n",
       "      <th>original_author</th>\n",
       "      <th>time</th>\n",
       "      <th>in_reply_to_screen_name</th>\n",
       "      <th>is_quote_status</th>\n",
       "      <th>lang</th>\n",
       "      <th>retweet_count</th>\n",
       "      <th>favorite_count</th>\n",
       "    </tr>\n",
       "  </thead>\n",
       "  <tbody>\n",
       "    <tr>\n",
       "      <th>0</th>\n",
       "      <td>7.340000e+17</td>\n",
       "      <td>NaN</td>\n",
       "      <td>#MichaelBrown would have been 20 years old tod...</td>\n",
       "      <td>True</td>\n",
       "      <td>LSD_Esq</td>\n",
       "      <td>2016-05-20T18:07:08</td>\n",
       "      <td>NaN</td>\n",
       "      <td>False</td>\n",
       "      <td>en</td>\n",
       "      <td>594</td>\n",
       "      <td>1096</td>\n",
       "    </tr>\n",
       "    <tr>\n",
       "      <th>1</th>\n",
       "      <td>7.340000e+17</td>\n",
       "      <td>NaN</td>\n",
       "      <td>Congratulations on becoming a U.S. citizen, Al...</td>\n",
       "      <td>False</td>\n",
       "      <td>NaN</td>\n",
       "      <td>2016-05-20T17:24:12</td>\n",
       "      <td>NaN</td>\n",
       "      <td>False</td>\n",
       "      <td>en</td>\n",
       "      <td>1701</td>\n",
       "      <td>4239</td>\n",
       "    </tr>\n",
       "    <tr>\n",
       "      <th>2</th>\n",
       "      <td>7.340000e+17</td>\n",
       "      <td>NaN</td>\n",
       "      <td>We need a president who will unite leaders aro...</td>\n",
       "      <td>False</td>\n",
       "      <td>NaN</td>\n",
       "      <td>2016-05-20T17:12:52</td>\n",
       "      <td>NaN</td>\n",
       "      <td>False</td>\n",
       "      <td>en</td>\n",
       "      <td>1817</td>\n",
       "      <td>3577</td>\n",
       "    </tr>\n",
       "    <tr>\n",
       "      <th>3</th>\n",
       "      <td>7.340000e+17</td>\n",
       "      <td>NaN</td>\n",
       "      <td>Dear Congress,\\n\\nLet's get this done.\\n\\nThan...</td>\n",
       "      <td>False</td>\n",
       "      <td>NaN</td>\n",
       "      <td>2016-05-20T16:21:13</td>\n",
       "      <td>NaN</td>\n",
       "      <td>False</td>\n",
       "      <td>en</td>\n",
       "      <td>2530</td>\n",
       "      <td>6012</td>\n",
       "    </tr>\n",
       "    <tr>\n",
       "      <th>4</th>\n",
       "      <td>7.340000e+17</td>\n",
       "      <td>NaN</td>\n",
       "      <td>Failing @NYTimes will always take a good story...</td>\n",
       "      <td>False</td>\n",
       "      <td>NaN</td>\n",
       "      <td>2016-05-20T16:11:21</td>\n",
       "      <td>NaN</td>\n",
       "      <td>False</td>\n",
       "      <td>en</td>\n",
       "      <td>3750</td>\n",
       "      <td>12372</td>\n",
       "    </tr>\n",
       "  </tbody>\n",
       "</table>\n",
       "</div>"
      ],
      "text/plain": [
       "             id  handle                                               text  \\\n",
       "0  7.340000e+17     NaN  #MichaelBrown would have been 20 years old tod...   \n",
       "1  7.340000e+17     NaN  Congratulations on becoming a U.S. citizen, Al...   \n",
       "2  7.340000e+17     NaN  We need a president who will unite leaders aro...   \n",
       "3  7.340000e+17     NaN  Dear Congress,\\n\\nLet's get this done.\\n\\nThan...   \n",
       "4  7.340000e+17     NaN  Failing @NYTimes will always take a good story...   \n",
       "\n",
       "  is_retweet original_author                 time in_reply_to_screen_name  \\\n",
       "0       True         LSD_Esq  2016-05-20T18:07:08                     NaN   \n",
       "1      False             NaN  2016-05-20T17:24:12                     NaN   \n",
       "2      False             NaN  2016-05-20T17:12:52                     NaN   \n",
       "3      False             NaN  2016-05-20T16:21:13                     NaN   \n",
       "4      False             NaN  2016-05-20T16:11:21                     NaN   \n",
       "\n",
       "  is_quote_status lang  retweet_count  favorite_count  \n",
       "0           False   en            594            1096  \n",
       "1           False   en           1701            4239  \n",
       "2           False   en           1817            3577  \n",
       "3           False   en           2530            6012  \n",
       "4           False   en           3750           12372  "
      ]
     },
     "execution_count": 13,
     "metadata": {},
     "output_type": "execute_result"
    }
   ],
   "source": [
    "test.head()"
   ]
  },
  {
   "cell_type": "code",
   "execution_count": 14,
   "metadata": {
    "collapsed": false
   },
   "outputs": [
    {
     "data": {
      "text/html": [
       "<div style=\"max-width:1500px;overflow:auto;\">\n",
       "<table border=\"1\" class=\"dataframe\">\n",
       "  <thead>\n",
       "    <tr style=\"text-align: right;\">\n",
       "      <th></th>\n",
       "      <th>id</th>\n",
       "      <th>handle</th>\n",
       "      <th>text</th>\n",
       "      <th>is_retweet</th>\n",
       "      <th>original_author</th>\n",
       "      <th>time</th>\n",
       "      <th>in_reply_to_screen_name</th>\n",
       "      <th>is_quote_status</th>\n",
       "      <th>lang</th>\n",
       "      <th>retweet_count</th>\n",
       "      <th>favorite_count</th>\n",
       "    </tr>\n",
       "  </thead>\n",
       "  <tbody>\n",
       "    <tr>\n",
       "      <th>2344</th>\n",
       "      <td>6.840000e+17</td>\n",
       "      <td>NaN</td>\n",
       "      <td>\"@lilredfrmkokomo: @realDonaldTrump My Faceboo...</td>\n",
       "      <td>False</td>\n",
       "      <td>NaN</td>\n",
       "      <td>2016-01-05T03:47:14</td>\n",
       "      <td>NaN</td>\n",
       "      <td>False</td>\n",
       "      <td>en</td>\n",
       "      <td>1110</td>\n",
       "      <td>4024</td>\n",
       "    </tr>\n",
       "    <tr>\n",
       "      <th>2345</th>\n",
       "      <td>6.840000e+17</td>\n",
       "      <td>NaN</td>\n",
       "      <td>\"@marybnall01: @realDonaldTrump watched lowell...</td>\n",
       "      <td>False</td>\n",
       "      <td>NaN</td>\n",
       "      <td>2016-01-05T03:44:17</td>\n",
       "      <td>NaN</td>\n",
       "      <td>False</td>\n",
       "      <td>en</td>\n",
       "      <td>855</td>\n",
       "      <td>3181</td>\n",
       "    </tr>\n",
       "    <tr>\n",
       "      <th>2346</th>\n",
       "      <td>6.840000e+17</td>\n",
       "      <td>NaN</td>\n",
       "      <td>\"@ghosthunter_lol: Iowa key endorsement for @r...</td>\n",
       "      <td>False</td>\n",
       "      <td>NaN</td>\n",
       "      <td>2016-01-05T03:42:10</td>\n",
       "      <td>NaN</td>\n",
       "      <td>False</td>\n",
       "      <td>en</td>\n",
       "      <td>2315</td>\n",
       "      <td>5992</td>\n",
       "    </tr>\n",
       "    <tr>\n",
       "      <th>2347</th>\n",
       "      <td>6.840000e+17</td>\n",
       "      <td>NaN</td>\n",
       "      <td>\"@iLoveiDevices: @EdwinRo47796972 @happyjack22...</td>\n",
       "      <td>False</td>\n",
       "      <td>NaN</td>\n",
       "      <td>2016-01-05T03:39:11</td>\n",
       "      <td>NaN</td>\n",
       "      <td>False</td>\n",
       "      <td>en</td>\n",
       "      <td>1054</td>\n",
       "      <td>3258</td>\n",
       "    </tr>\n",
       "    <tr>\n",
       "      <th>2348</th>\n",
       "      <td>6.840000e+17</td>\n",
       "      <td>NaN</td>\n",
       "      <td>\"@SalRiccobono: @realDonaldTrump @troyconway D...</td>\n",
       "      <td>False</td>\n",
       "      <td>NaN</td>\n",
       "      <td>2016-01-05T03:36:53</td>\n",
       "      <td>NaN</td>\n",
       "      <td>False</td>\n",
       "      <td>en</td>\n",
       "      <td>748</td>\n",
       "      <td>2658</td>\n",
       "    </tr>\n",
       "  </tbody>\n",
       "</table>\n",
       "</div>"
      ],
      "text/plain": [
       "                id  handle                                               text  \\\n",
       "2344  6.840000e+17     NaN  \"@lilredfrmkokomo: @realDonaldTrump My Faceboo...   \n",
       "2345  6.840000e+17     NaN  \"@marybnall01: @realDonaldTrump watched lowell...   \n",
       "2346  6.840000e+17     NaN  \"@ghosthunter_lol: Iowa key endorsement for @r...   \n",
       "2347  6.840000e+17     NaN  \"@iLoveiDevices: @EdwinRo47796972 @happyjack22...   \n",
       "2348  6.840000e+17     NaN  \"@SalRiccobono: @realDonaldTrump @troyconway D...   \n",
       "\n",
       "     is_retweet original_author                 time in_reply_to_screen_name  \\\n",
       "2344      False             NaN  2016-01-05T03:47:14                     NaN   \n",
       "2345      False             NaN  2016-01-05T03:44:17                     NaN   \n",
       "2346      False             NaN  2016-01-05T03:42:10                     NaN   \n",
       "2347      False             NaN  2016-01-05T03:39:11                     NaN   \n",
       "2348      False             NaN  2016-01-05T03:36:53                     NaN   \n",
       "\n",
       "     is_quote_status lang  retweet_count  favorite_count  \n",
       "2344           False   en           1110            4024  \n",
       "2345           False   en            855            3181  \n",
       "2346           False   en           2315            5992  \n",
       "2347           False   en           1054            3258  \n",
       "2348           False   en            748            2658  "
      ]
     },
     "execution_count": 14,
     "metadata": {},
     "output_type": "execute_result"
    }
   ],
   "source": [
    "test.tail()"
   ]
  },
  {
   "cell_type": "code",
   "execution_count": 15,
   "metadata": {
    "collapsed": false
   },
   "outputs": [
    {
     "data": {
      "text/html": [
       "<div style=\"max-width:1500px;overflow:auto;\">\n",
       "<table border=\"1\" class=\"dataframe\">\n",
       "  <thead>\n",
       "    <tr style=\"text-align: right;\">\n",
       "      <th></th>\n",
       "      <th>id</th>\n",
       "      <th>handle</th>\n",
       "      <th>text</th>\n",
       "      <th>is_retweet</th>\n",
       "      <th>original_author</th>\n",
       "      <th>time</th>\n",
       "      <th>lang</th>\n",
       "      <th>retweet_count</th>\n",
       "      <th>favorite_count</th>\n",
       "    </tr>\n",
       "  </thead>\n",
       "  <tbody>\n",
       "    <tr>\n",
       "      <th>0</th>\n",
       "      <td>7.810000e+17</td>\n",
       "      <td>HillaryClinton</td>\n",
       "      <td>The question in this election: Who can put the...</td>\n",
       "      <td>False</td>\n",
       "      <td>NaN</td>\n",
       "      <td>2016-09-28T00:22:34</td>\n",
       "      <td>en</td>\n",
       "      <td>218</td>\n",
       "      <td>651</td>\n",
       "    </tr>\n",
       "    <tr>\n",
       "      <th>1</th>\n",
       "      <td>7.810000e+17</td>\n",
       "      <td>HillaryClinton</td>\n",
       "      <td>Last night, Donald Trump said not paying taxes...</td>\n",
       "      <td>True</td>\n",
       "      <td>timkaine</td>\n",
       "      <td>2016-09-27T23:45:00</td>\n",
       "      <td>en</td>\n",
       "      <td>2445</td>\n",
       "      <td>5308</td>\n",
       "    </tr>\n",
       "    <tr>\n",
       "      <th>2</th>\n",
       "      <td>7.810000e+17</td>\n",
       "      <td>HillaryClinton</td>\n",
       "      <td>Couldn't be more proud of @HillaryClinton. Her...</td>\n",
       "      <td>True</td>\n",
       "      <td>POTUS</td>\n",
       "      <td>2016-09-27T23:26:40</td>\n",
       "      <td>en</td>\n",
       "      <td>7834</td>\n",
       "      <td>27234</td>\n",
       "    </tr>\n",
       "    <tr>\n",
       "      <th>3</th>\n",
       "      <td>7.810000e+17</td>\n",
       "      <td>HillaryClinton</td>\n",
       "      <td>If we stand together, there's nothing we can't...</td>\n",
       "      <td>False</td>\n",
       "      <td>NaN</td>\n",
       "      <td>2016-09-27T23:08:41</td>\n",
       "      <td>en</td>\n",
       "      <td>916</td>\n",
       "      <td>2542</td>\n",
       "    </tr>\n",
       "    <tr>\n",
       "      <th>4</th>\n",
       "      <td>7.810000e+17</td>\n",
       "      <td>HillaryClinton</td>\n",
       "      <td>Both candidates were asked about how they'd co...</td>\n",
       "      <td>False</td>\n",
       "      <td>NaN</td>\n",
       "      <td>2016-09-27T22:30:27</td>\n",
       "      <td>en</td>\n",
       "      <td>859</td>\n",
       "      <td>2882</td>\n",
       "    </tr>\n",
       "  </tbody>\n",
       "</table>\n",
       "</div>"
      ],
      "text/plain": [
       "             id          handle  \\\n",
       "0  7.810000e+17  HillaryClinton   \n",
       "1  7.810000e+17  HillaryClinton   \n",
       "2  7.810000e+17  HillaryClinton   \n",
       "3  7.810000e+17  HillaryClinton   \n",
       "4  7.810000e+17  HillaryClinton   \n",
       "\n",
       "                                                text is_retweet  \\\n",
       "0  The question in this election: Who can put the...      False   \n",
       "1  Last night, Donald Trump said not paying taxes...       True   \n",
       "2  Couldn't be more proud of @HillaryClinton. Her...       True   \n",
       "3  If we stand together, there's nothing we can't...      False   \n",
       "4  Both candidates were asked about how they'd co...      False   \n",
       "\n",
       "  original_author                 time lang  retweet_count  favorite_count  \n",
       "0             NaN  2016-09-28T00:22:34   en            218             651  \n",
       "1        timkaine  2016-09-27T23:45:00   en           2445            5308  \n",
       "2           POTUS  2016-09-27T23:26:40   en           7834           27234  \n",
       "3             NaN  2016-09-27T23:08:41   en            916            2542  \n",
       "4             NaN  2016-09-27T22:30:27   en            859            2882  "
      ]
     },
     "execution_count": 15,
     "metadata": {},
     "output_type": "execute_result"
    }
   ],
   "source": [
    "hilary.head()"
   ]
  },
  {
   "cell_type": "code",
   "execution_count": 16,
   "metadata": {
    "collapsed": false
   },
   "outputs": [
    {
     "data": {
      "text/html": [
       "<div style=\"max-width:1500px;overflow:auto;\">\n",
       "<table border=\"1\" class=\"dataframe\">\n",
       "  <thead>\n",
       "    <tr style=\"text-align: right;\">\n",
       "      <th></th>\n",
       "      <th>id</th>\n",
       "      <th>handle</th>\n",
       "      <th>text</th>\n",
       "      <th>is_retweet</th>\n",
       "      <th>original_author</th>\n",
       "      <th>time</th>\n",
       "      <th>lang</th>\n",
       "      <th>retweet_count</th>\n",
       "      <th>favorite_count</th>\n",
       "    </tr>\n",
       "  </thead>\n",
       "  <tbody>\n",
       "    <tr>\n",
       "      <th>3984</th>\n",
       "      <td>7.360000e+17</td>\n",
       "      <td>HillaryClinton</td>\n",
       "      <td>We’re stronger together. When we embrace immig...</td>\n",
       "      <td>False</td>\n",
       "      <td>NaN</td>\n",
       "      <td>2016-05-25T18:02:01</td>\n",
       "      <td>en</td>\n",
       "      <td>1353</td>\n",
       "      <td>3392</td>\n",
       "    </tr>\n",
       "    <tr>\n",
       "      <th>3985</th>\n",
       "      <td>7.360000e+17</td>\n",
       "      <td>HillaryClinton</td>\n",
       "      <td>Donald Trump has spent his career looking to t...</td>\n",
       "      <td>False</td>\n",
       "      <td>NaN</td>\n",
       "      <td>2016-05-25T15:58:25</td>\n",
       "      <td>en</td>\n",
       "      <td>971</td>\n",
       "      <td>1732</td>\n",
       "    </tr>\n",
       "    <tr>\n",
       "      <th>3986</th>\n",
       "      <td>7.350000e+17</td>\n",
       "      <td>HillaryClinton</td>\n",
       "      <td>Trump bet against American families in the hou...</td>\n",
       "      <td>True</td>\n",
       "      <td>TheBriefing2016</td>\n",
       "      <td>2016-05-25T15:17:32</td>\n",
       "      <td>en</td>\n",
       "      <td>899</td>\n",
       "      <td>1091</td>\n",
       "    </tr>\n",
       "    <tr>\n",
       "      <th>3987</th>\n",
       "      <td>7.350000e+17</td>\n",
       "      <td>HillaryClinton</td>\n",
       "      <td>Mientras 5 millones de personas perdían sus ho...</td>\n",
       "      <td>False</td>\n",
       "      <td>NaN</td>\n",
       "      <td>2016-05-25T14:24:10</td>\n",
       "      <td>es</td>\n",
       "      <td>801</td>\n",
       "      <td>962</td>\n",
       "    </tr>\n",
       "    <tr>\n",
       "      <th>3990</th>\n",
       "      <td>7.350000e+17</td>\n",
       "      <td>HillaryClinton</td>\n",
       "      <td>Millions of families saw their life savings de...</td>\n",
       "      <td>False</td>\n",
       "      <td>NaN</td>\n",
       "      <td>2016-05-25T12:57:16</td>\n",
       "      <td>en</td>\n",
       "      <td>1987</td>\n",
       "      <td>2894</td>\n",
       "    </tr>\n",
       "  </tbody>\n",
       "</table>\n",
       "</div>"
      ],
      "text/plain": [
       "                id          handle  \\\n",
       "3984  7.360000e+17  HillaryClinton   \n",
       "3985  7.360000e+17  HillaryClinton   \n",
       "3986  7.350000e+17  HillaryClinton   \n",
       "3987  7.350000e+17  HillaryClinton   \n",
       "3990  7.350000e+17  HillaryClinton   \n",
       "\n",
       "                                                   text is_retweet  \\\n",
       "3984  We’re stronger together. When we embrace immig...      False   \n",
       "3985  Donald Trump has spent his career looking to t...      False   \n",
       "3986  Trump bet against American families in the hou...       True   \n",
       "3987  Mientras 5 millones de personas perdían sus ho...      False   \n",
       "3990  Millions of families saw their life savings de...      False   \n",
       "\n",
       "      original_author                 time lang  retweet_count  favorite_count  \n",
       "3984              NaN  2016-05-25T18:02:01   en           1353            3392  \n",
       "3985              NaN  2016-05-25T15:58:25   en            971            1732  \n",
       "3986  TheBriefing2016  2016-05-25T15:17:32   en            899            1091  \n",
       "3987              NaN  2016-05-25T14:24:10   es            801             962  \n",
       "3990              NaN  2016-05-25T12:57:16   en           1987            2894  "
      ]
     },
     "execution_count": 16,
     "metadata": {},
     "output_type": "execute_result"
    }
   ],
   "source": [
    "hilary.tail()"
   ]
  },
  {
   "cell_type": "code",
   "execution_count": 17,
   "metadata": {
    "collapsed": false
   },
   "outputs": [
    {
     "data": {
      "text/html": [
       "<div style=\"max-width:1500px;overflow:auto;\">\n",
       "<table border=\"1\" class=\"dataframe\">\n",
       "  <thead>\n",
       "    <tr style=\"text-align: right;\">\n",
       "      <th></th>\n",
       "      <th>id</th>\n",
       "      <th>handle</th>\n",
       "      <th>text</th>\n",
       "      <th>is_retweet</th>\n",
       "      <th>original_author</th>\n",
       "      <th>time</th>\n",
       "      <th>lang</th>\n",
       "      <th>retweet_count</th>\n",
       "      <th>favorite_count</th>\n",
       "    </tr>\n",
       "  </thead>\n",
       "  <tbody>\n",
       "    <tr>\n",
       "      <th>5</th>\n",
       "      <td>7.810000e+17</td>\n",
       "      <td>realDonaldTrump</td>\n",
       "      <td>Join me for a 3pm rally - tomorrow at the Mid-...</td>\n",
       "      <td>False</td>\n",
       "      <td>NaN</td>\n",
       "      <td>2016-09-27T22:13:24</td>\n",
       "      <td>en</td>\n",
       "      <td>2181</td>\n",
       "      <td>6172</td>\n",
       "    </tr>\n",
       "    <tr>\n",
       "      <th>8</th>\n",
       "      <td>7.810000e+17</td>\n",
       "      <td>realDonaldTrump</td>\n",
       "      <td>Once again, we will have a government of, by a...</td>\n",
       "      <td>False</td>\n",
       "      <td>NaN</td>\n",
       "      <td>2016-09-27T21:08:22</td>\n",
       "      <td>en</td>\n",
       "      <td>4132</td>\n",
       "      <td>11239</td>\n",
       "    </tr>\n",
       "    <tr>\n",
       "      <th>11</th>\n",
       "      <td>7.810000e+17</td>\n",
       "      <td>realDonaldTrump</td>\n",
       "      <td>On National #VoterRegistrationDay, make sure y...</td>\n",
       "      <td>True</td>\n",
       "      <td>GOP</td>\n",
       "      <td>2016-09-27T20:31:14</td>\n",
       "      <td>en</td>\n",
       "      <td>2953</td>\n",
       "      <td>6963</td>\n",
       "    </tr>\n",
       "    <tr>\n",
       "      <th>12</th>\n",
       "      <td>7.810000e+17</td>\n",
       "      <td>realDonaldTrump</td>\n",
       "      <td>Hillary Clinton's Campaign Continues To Make F...</td>\n",
       "      <td>False</td>\n",
       "      <td>NaN</td>\n",
       "      <td>2016-09-27T20:14:33</td>\n",
       "      <td>en</td>\n",
       "      <td>3833</td>\n",
       "      <td>9840</td>\n",
       "    </tr>\n",
       "    <tr>\n",
       "      <th>13</th>\n",
       "      <td>7.810000e+17</td>\n",
       "      <td>realDonaldTrump</td>\n",
       "      <td>'CNBC, Time magazine online polls say Donald T...</td>\n",
       "      <td>False</td>\n",
       "      <td>NaN</td>\n",
       "      <td>2016-09-27T20:06:25</td>\n",
       "      <td>en</td>\n",
       "      <td>4236</td>\n",
       "      <td>10948</td>\n",
       "    </tr>\n",
       "  </tbody>\n",
       "</table>\n",
       "</div>"
      ],
      "text/plain": [
       "              id           handle  \\\n",
       "5   7.810000e+17  realDonaldTrump   \n",
       "8   7.810000e+17  realDonaldTrump   \n",
       "11  7.810000e+17  realDonaldTrump   \n",
       "12  7.810000e+17  realDonaldTrump   \n",
       "13  7.810000e+17  realDonaldTrump   \n",
       "\n",
       "                                                 text is_retweet  \\\n",
       "5   Join me for a 3pm rally - tomorrow at the Mid-...      False   \n",
       "8   Once again, we will have a government of, by a...      False   \n",
       "11  On National #VoterRegistrationDay, make sure y...       True   \n",
       "12  Hillary Clinton's Campaign Continues To Make F...      False   \n",
       "13  'CNBC, Time magazine online polls say Donald T...      False   \n",
       "\n",
       "   original_author                 time lang  retweet_count  favorite_count  \n",
       "5              NaN  2016-09-27T22:13:24   en           2181            6172  \n",
       "8              NaN  2016-09-27T21:08:22   en           4132           11239  \n",
       "11             GOP  2016-09-27T20:31:14   en           2953            6963  \n",
       "12             NaN  2016-09-27T20:14:33   en           3833            9840  \n",
       "13             NaN  2016-09-27T20:06:25   en           4236           10948  "
      ]
     },
     "execution_count": 17,
     "metadata": {},
     "output_type": "execute_result"
    }
   ],
   "source": [
    "trump.head()"
   ]
  },
  {
   "cell_type": "code",
   "execution_count": 18,
   "metadata": {
    "collapsed": false
   },
   "outputs": [
    {
     "data": {
      "text/html": [
       "<div style=\"max-width:1500px;overflow:auto;\">\n",
       "<table border=\"1\" class=\"dataframe\">\n",
       "  <thead>\n",
       "    <tr style=\"text-align: right;\">\n",
       "      <th></th>\n",
       "      <th>id</th>\n",
       "      <th>handle</th>\n",
       "      <th>text</th>\n",
       "      <th>is_retweet</th>\n",
       "      <th>original_author</th>\n",
       "      <th>time</th>\n",
       "      <th>lang</th>\n",
       "      <th>retweet_count</th>\n",
       "      <th>favorite_count</th>\n",
       "    </tr>\n",
       "  </thead>\n",
       "  <tbody>\n",
       "    <tr>\n",
       "      <th>3994</th>\n",
       "      <td>7.350000e+17</td>\n",
       "      <td>realDonaldTrump</td>\n",
       "      <td>\"@buiIdthewall: @realDonaldTrump high energy!\"</td>\n",
       "      <td>False</td>\n",
       "      <td>NaN</td>\n",
       "      <td>2016-05-25T05:45:19</td>\n",
       "      <td>en</td>\n",
       "      <td>1984</td>\n",
       "      <td>8121</td>\n",
       "    </tr>\n",
       "    <tr>\n",
       "      <th>3995</th>\n",
       "      <td>7.350000e+17</td>\n",
       "      <td>realDonaldTrump</td>\n",
       "      <td>\"@PiperSul: Great speech tonight Mr.Trump! Goo...</td>\n",
       "      <td>False</td>\n",
       "      <td>NaN</td>\n",
       "      <td>2016-05-25T05:45:11</td>\n",
       "      <td>en</td>\n",
       "      <td>1827</td>\n",
       "      <td>7922</td>\n",
       "    </tr>\n",
       "    <tr>\n",
       "      <th>3996</th>\n",
       "      <td>7.350000e+17</td>\n",
       "      <td>realDonaldTrump</td>\n",
       "      <td>\"@DeepakS76435750: @realDonaldTrump congratula...</td>\n",
       "      <td>False</td>\n",
       "      <td>NaN</td>\n",
       "      <td>2016-05-25T05:42:59</td>\n",
       "      <td>en</td>\n",
       "      <td>1669</td>\n",
       "      <td>6868</td>\n",
       "    </tr>\n",
       "    <tr>\n",
       "      <th>3997</th>\n",
       "      <td>7.350000e+17</td>\n",
       "      <td>realDonaldTrump</td>\n",
       "      <td>\"@oasisupernova: @realDonaldTrump UP TO 8.4 MI...</td>\n",
       "      <td>False</td>\n",
       "      <td>NaN</td>\n",
       "      <td>2016-05-25T05:42:49</td>\n",
       "      <td>en</td>\n",
       "      <td>2684</td>\n",
       "      <td>9643</td>\n",
       "    </tr>\n",
       "    <tr>\n",
       "      <th>3998</th>\n",
       "      <td>7.350000e+17</td>\n",
       "      <td>realDonaldTrump</td>\n",
       "      <td>\"@jknatter: @realDonaldTrump #TrumpTrain\"</td>\n",
       "      <td>False</td>\n",
       "      <td>NaN</td>\n",
       "      <td>2016-05-25T05:41:38</td>\n",
       "      <td>und</td>\n",
       "      <td>1165</td>\n",
       "      <td>5166</td>\n",
       "    </tr>\n",
       "  </tbody>\n",
       "</table>\n",
       "</div>"
      ],
      "text/plain": [
       "                id           handle  \\\n",
       "3994  7.350000e+17  realDonaldTrump   \n",
       "3995  7.350000e+17  realDonaldTrump   \n",
       "3996  7.350000e+17  realDonaldTrump   \n",
       "3997  7.350000e+17  realDonaldTrump   \n",
       "3998  7.350000e+17  realDonaldTrump   \n",
       "\n",
       "                                                   text is_retweet  \\\n",
       "3994     \"@buiIdthewall: @realDonaldTrump high energy!\"      False   \n",
       "3995  \"@PiperSul: Great speech tonight Mr.Trump! Goo...      False   \n",
       "3996  \"@DeepakS76435750: @realDonaldTrump congratula...      False   \n",
       "3997  \"@oasisupernova: @realDonaldTrump UP TO 8.4 MI...      False   \n",
       "3998          \"@jknatter: @realDonaldTrump #TrumpTrain\"      False   \n",
       "\n",
       "     original_author                 time lang  retweet_count  favorite_count  \n",
       "3994             NaN  2016-05-25T05:45:19   en           1984            8121  \n",
       "3995             NaN  2016-05-25T05:45:11   en           1827            7922  \n",
       "3996             NaN  2016-05-25T05:42:59   en           1669            6868  \n",
       "3997             NaN  2016-05-25T05:42:49   en           2684            9643  \n",
       "3998             NaN  2016-05-25T05:41:38  und           1165            5166  "
      ]
     },
     "execution_count": 18,
     "metadata": {},
     "output_type": "execute_result"
    }
   ],
   "source": [
    "trump.tail()"
   ]
  },
  {
   "cell_type": "markdown",
   "metadata": {},
   "source": [
    "## Charts\n",
    "Let us see if we can learn something from special charecters.\n",
    "We normalised the counts so the graphs will match if the distributions match."
   ]
  },
  {
   "cell_type": "code",
   "execution_count": 11,
   "metadata": {
    "collapsed": false
   },
   "outputs": [
    {
     "data": {
      "text/plain": [
       "<matplotlib.legend.Legend at 0x7f89ecdfdef0>"
      ]
     },
     "execution_count": 11,
     "metadata": {},
     "output_type": "execute_result"
    },
    {
     "data": {
      "image/png": "[encoded data removed]",
      "text/plain": [
       "<matplotlib.figure.Figure at 0x7f89ecec6518>"
      ]
     },
     "metadata": {},
     "output_type": "display_data"
    }
   ],
   "source": [
    "plt.rc('font', size=13)\n",
    "fig = plt.figure(figsize=(30, 20))\n",
    "alpha = 0.6\n",
    "\n",
    "def get_special_chars(df):\n",
    "    res = pd.DataFrame()\n",
    "    res.reindex(df.index)\n",
    "    res['@count'] = df['text'].apply(lambda row: row.count('@'))\n",
    "    res['#count'] = df['text'].apply(lambda row: row.count('#'))\n",
    "    res['.count'] = df['text'].apply(lambda row: row.count('.'))\n",
    "    res[',count'] = df['text'].apply(lambda row: row.count(','))\n",
    "    res['-count'] = df['text'].apply(lambda row: row.count('-'))\n",
    "    return res\n",
    "\n",
    "counted_trump = get_special_chars(trump)\n",
    "counted_hilary = get_special_chars(hilary)\n",
    "counted_test = get_special_chars(test)\n",
    "counted_train = get_special_chars(train)\n",
    "\n",
    "ax1 = plt.subplot2grid((2,3), (0,0))\n",
    "# since we are counting values it makes sense to regularize the counts\n",
    "(counted_trump['@count'].value_counts()  / counted_trump.shape[0]).plot(kind='line', color='#FA2379', label='trump', alpha=alpha)\n",
    "(counted_hilary['@count'].value_counts()  / counted_hilary.shape[0]).plot(kind='line', label='hilary', alpha=alpha)\n",
    "(counted_train['@count'].value_counts() / counted_train.shape[0]).plot(kind='line', label='train', alpha=alpha)\n",
    "(counted_test['@count'].value_counts() / counted_test.shape[0]).plot(kind='line', label='test', alpha=alpha)\n",
    "ax1.set_xlabel('@ count')\n",
    "ax1.set_title(\"What's the counts of @ in text?\" )\n",
    "plt.legend(loc='best')"
   ]
  },
  {
   "cell_type": "code",
   "execution_count": 12,
   "metadata": {
    "collapsed": false
   },
   "outputs": [
    {
     "data": {
      "text/plain": [
       "<matplotlib.legend.Legend at 0x7f89f055cfd0>"
      ]
     },
     "execution_count": 12,
     "metadata": {},
     "output_type": "execute_result"
    },
    {
     "data": {
      "image/png": "[encoded data removed]",
      "text/plain": [
       "<matplotlib.figure.Figure at 0x7f89ece893c8>"
      ]
     },
     "metadata": {},
     "output_type": "display_data"
    }
   ],
   "source": [
    "plt.rc('font', size=13)\n",
    "fig = plt.figure(figsize=(30, 20))\n",
    "alpha = 0.6\n",
    "\n",
    "ax2 = plt.subplot2grid((2,3), (0,1))\n",
    "# since we are counting values it makes sense to regularize the counts\n",
    "(counted_trump['#count'].value_counts()  / counted_trump.shape[0]).plot(kind='line', color='#FA2379', label='trump', alpha=alpha)\n",
    "(counted_hilary['#count'].value_counts()  / counted_hilary.shape[0]).plot(kind='line', label='hilary', alpha=alpha)\n",
    "(counted_train['#count'].value_counts() / counted_train.shape[0]).plot(kind='line', label='train', alpha=alpha)\n",
    "(counted_test['#count'].value_counts() / counted_test.shape[0]).plot(kind='line', label='test', alpha=alpha)\n",
    "ax1.set_xlabel('# count')\n",
    "ax1.set_title(\"What's the counts of # in text?\" )\n",
    "plt.legend(loc='best')"
   ]
  },
  {
   "cell_type": "code",
   "execution_count": 9,
   "metadata": {
    "collapsed": false
   },
   "outputs": [
    {
     "data": {
      "text/plain": [
       "<matplotlib.legend.Legend at 0x7f89ecf79dd8>"
      ]
     },
     "execution_count": 9,
     "metadata": {},
     "output_type": "execute_result"
    },
    {
     "data": {
      "image/png": "[encoded data removed]",
      "text/plain": [
       "<matplotlib.figure.Figure at 0x7f89ecf79630>"
      ]
     },
     "metadata": {},
     "output_type": "display_data"
    }
   ],
   "source": [
    "plt.rc('font', size=13)\n",
    "fig = plt.figure(figsize=(30, 20))\n",
    "alpha = 0.6\n",
    "\n",
    "ax4 = plt.subplot2grid((2,3), (1,0))\n",
    "# since we are counting values it makes sense to regularize the counts\n",
    "(counted_trump[',count'].value_counts()  / counted_trump.shape[0]).plot(kind='line', color='#FA2379', label='trump', alpha=alpha)\n",
    "(counted_hilary[',count'].value_counts()  / counted_hilary.shape[0]).plot(kind='line', label='hilary', alpha=alpha)\n",
    "(counted_train[',count'].value_counts() / counted_train.shape[0]).plot(kind='line', label='train', alpha=alpha)\n",
    "(counted_test[',count'].value_counts() / counted_test.shape[0]).plot(kind='line', label='test', alpha=alpha)\n",
    "ax1.set_xlabel(', count')\n",
    "ax1.set_title(\"What's the counts of , in text?\" )\n",
    "plt.legend(loc='best')"
   ]
  },
  {
   "cell_type": "code",
   "execution_count": 10,
   "metadata": {
    "collapsed": false
   },
   "outputs": [
    {
     "data": {
      "text/plain": [
       "<matplotlib.legend.Legend at 0x7f89ecf009b0>"
      ]
     },
     "execution_count": 10,
     "metadata": {},
     "output_type": "execute_result"
    },
    {
     "data": {
      "image/png": "[encoded data removed]",
      "text/plain": [
       "<matplotlib.figure.Figure at 0x7f89ecf00940>"
      ]
     },
     "metadata": {},
     "output_type": "display_data"
    }
   ],
   "source": [
    "plt.rc('font', size=13)\n",
    "fig = plt.figure(figsize=(30, 20))\n",
    "alpha = 0.6\n",
    "\n",
    "ax5 = plt.subplot2grid((2,3), (1,1))\n",
    "# since we are counting values it makes sense to regularize the counts\n",
    "(counted_trump['-count'].value_counts()  / counted_trump.shape[0]).plot(kind='line', color='#FA2379', label='trump', alpha=alpha)\n",
    "(counted_hilary['-count'].value_counts()  / counted_hilary.shape[0]).plot(kind='line', label='hilary', alpha=alpha)\n",
    "(counted_train['-count'].value_counts() / counted_train.shape[0]).plot(kind='line', label='train', alpha=alpha)\n",
    "(counted_test['-count'].value_counts() / counted_test.shape[0]).plot(kind='line', label='test', alpha=alpha)\n",
    "ax1.set_xlabel('- count')\n",
    "ax1.set_title(\"What's the counts of - in text?\" )\n",
    "plt.legend(loc='best')"
   ]
  },
  {
   "cell_type": "markdown",
   "metadata": {},
   "source": [
    "seems like trump is alot more likely to use special charecters more then once in a tweet which will probably be a usefull feature.\n",
    "Here we see a bias in train/test, train is really missing alot of this compared to test which might indicate trump is more common in test or we have a bias. Let's hope for the first.\n",
    "### Now let us to look at other features\n",
    "our columns are:"
   ]
  },
  {
   "cell_type": "code",
   "execution_count": 13,
   "metadata": {
    "collapsed": false
   },
   "outputs": [
    {
     "name": "stdout",
     "output_type": "stream",
     "text": [
      "id handle text is_retweet original_author time lang retweet_count favorite_count\n"
     ]
    }
   ],
   "source": [
    "print(\" \".join(train.columns))"
   ]
  },
  {
   "cell_type": "markdown",
   "metadata": {},
   "source": [
    "So it seems logical to look at languages, repeating authors and times. maybe also find if there is a repeating original auther.\n",
    "Repeating authors are only interesting if they are both in train and test:"
   ]
  },
  {
   "cell_type": "code",
   "execution_count": 14,
   "metadata": {
    "collapsed": false
   },
   "outputs": [
    {
     "data": {
      "text/plain": [
       "HFA                55.0\n",
       "TheBriefing2016    77.0\n",
       "Name: original_author, dtype: float64"
      ]
     },
     "execution_count": 14,
     "metadata": {},
     "output_type": "execute_result"
    }
   ],
   "source": [
    "def get_all_repeating_original(df):\n",
    "    counts = df['original_author'].value_counts()\n",
    "    return counts[counts > 3]\n",
    "    \n",
    "(get_all_repeating_original(train) + get_all_repeating_original(test)).dropna()\n"
   ]
  },
  {
   "cell_type": "code",
   "execution_count": 16,
   "metadata": {
    "collapsed": false
   },
   "outputs": [
    {
     "data": {
      "text/plain": [
       "<matplotlib.legend.Legend at 0x7f89eccda5c0>"
      ]
     },
     "execution_count": 16,
     "metadata": {},
     "output_type": "execute_result"
    },
    {
     "data": {
      "image/png": "[encoded data removed]",
      "text/plain": [
       "<matplotlib.figure.Figure at 0x7f89f04256a0>"
      ]
     },
     "metadata": {},
     "output_type": "display_data"
    }
   ],
   "source": [
    "plt.rc('font', size=13)\n",
    "fig = plt.figure(figsize=(10, 10))\n",
    "alpha = 0.6\n",
    "\n",
    "ax1 = plt.subplot2grid((2,3), (0,0))\n",
    "# since we are counting values it makes sense to regularize the counts\n",
    "repeating_train = (get_all_repeating_original(train) + get_all_repeating_original(test) - get_all_repeating_original(test)).dropna()\n",
    "repeating_test = (get_all_repeating_original(train) + get_all_repeating_original(test) - get_all_repeating_original(train)).dropna()\n",
    "repeating_train.plot(kind='bar', color='#FA2379', label='train', alpha=alpha)\n",
    "repeating_test.plot(kind='bar', label='test', alpha=alpha)\n",
    "ax1.set_xlabel('repeating original author')\n",
    "ax1.set_title(\"Train vs Test repeatings\" )\n",
    "plt.legend(loc='best')"
   ]
  },
  {
   "cell_type": "markdown",
   "metadata": {},
   "source": [
    "Lets test trump vs hilary with these to see what we can learn"
   ]
  },
  {
   "cell_type": "code",
   "execution_count": 18,
   "metadata": {
    "collapsed": false
   },
   "outputs": [
    {
     "name": "stdout",
     "output_type": "stream",
     "text": [
      "Trump original authors\n",
      "TeamTrump        6\n",
      "DRUDGE_REPORT    6\n",
      "DanScavino       5\n",
      "IvankaTrump      4\n",
      "Name: original_author, dtype: int64\n",
      "\n",
      "Hillary original authors\n",
      "TheBriefing2016    56\n",
      "HFA                44\n",
      "timkaine           42\n",
      "Hillary_esp        22\n",
      "JoeBiden           15\n",
      "BernieSanders       9\n",
      "mayaharris_         9\n",
      "johnpodesta         9\n",
      "rosenbergerlm       7\n",
      "Jorge_Silva         6\n",
      "billclinton         6\n",
      "ChelseaClinton      5\n",
      "WhiteHouse          5\n",
      "HillaryforVA        5\n",
      "mikereedschmidt     5\n",
      "lorellapraeli       4\n",
      "elizabethforma      4\n",
      "dominiclowell       4\n",
      "repjohnlewis        4\n",
      "HillaryforPA        4\n",
      "POTUS               4\n",
      "mpshapiro           4\n",
      "Name: original_author, dtype: int64\n"
     ]
    }
   ],
   "source": [
    "print('Trump original authors')\n",
    "print(get_all_repeating_original(trump))\n",
    "print('\\nHillary original authors')\n",
    "print(get_all_repeating_original(hilary))"
   ]
  },
  {
   "cell_type": "markdown",
   "metadata": {},
   "source": [
    "If we will see an original_author in the test we will now it is alot more likely that hillary retweeted it.\n",
    "\n",
    "Let us look at languages:"
   ]
  },
  {
   "cell_type": "code",
   "execution_count": 79,
   "metadata": {
    "collapsed": false
   },
   "outputs": [
    {
     "name": "stdout",
     "output_type": "stream",
     "text": [
      "Showing training value counts\n",
      "en     3890\n",
      "es       68\n",
      "und      40\n",
      "fr        1\n",
      "Name: lang, dtype: int64\n",
      "\n",
      "Showing test value counts\n",
      "en     2265\n",
      "und      42\n",
      "es       34\n",
      "da        3\n",
      "tl        2\n",
      "et        1\n",
      "fr        1\n",
      "fi        1\n",
      "Name: lang, dtype: int64\n"
     ]
    }
   ],
   "source": [
    "lang_train = train['lang'].value_counts()\n",
    "lang_test = test['lang'].value_counts()\n",
    "print(\"Showing training value counts\")\n",
    "print(lang_train)\n",
    "print(\"\")\n",
    "print(\"Showing test value counts\")\n",
    "print(lang_test)"
   ]
  },
  {
   "cell_type": "code",
   "execution_count": 80,
   "metadata": {
    "collapsed": false
   },
   "outputs": [
    {
     "name": "stdout",
     "output_type": "stream",
     "text": [
      "Showing trump value counts\n",
      "en     1241\n",
      "und      34\n",
      "Name: lang, dtype: int64\n",
      "\n",
      "Showing hilary value counts\n",
      "en     2649\n",
      "es       68\n",
      "und       6\n",
      "fr        1\n",
      "Name: lang, dtype: int64\n"
     ]
    }
   ],
   "source": [
    "lang_trump = trump['lang'].value_counts()\n",
    "lang_hilary = hilary['lang'].value_counts()\n",
    "print(\"Showing trump value counts\")\n",
    "print(lang_trump)\n",
    "print(\"\")\n",
    "print(\"Showing hilary value counts\")\n",
    "print(lang_hilary)"
   ]
  },
  {
   "cell_type": "markdown",
   "metadata": {},
   "source": [
    "as both use different languages we will want a strong prior here to get over the bad distribution (missing values) of languages.\n",
    "\n",
    "Now taking a look at time. time is like a float or a vary large range integer and so we will want to get a smaller range so it'll make sense."
   ]
  },
  {
   "cell_type": "code",
   "execution_count": 88,
   "metadata": {
    "collapsed": false
   },
   "outputs": [
    {
     "data": {
      "text/plain": [
       "<matplotlib.legend.Legend at 0x7f9c683f5f28>"
      ]
     },
     "execution_count": 88,
     "metadata": {},
     "output_type": "execute_result"
    },
    {
     "data": {
      "image/png": "[encoded data removed]",
      "text/plain": [
       "<matplotlib.figure.Figure at 0x7f9c68847438>"
      ]
     },
     "metadata": {},
     "output_type": "display_data"
    }
   ],
   "source": [
    "import datetime\n",
    "def their_time_to_p(time_s):\n",
    "    return datetime.datetime.strptime(time_s, '%Y-%m-%dT%H:%M:%S')\n",
    "\n",
    "\n",
    "fixed_train = train.copy(False)\n",
    "fixed_test = test.copy(False)\n",
    "fixed_train['time'] = train['time'].map(lambda time_s: their_time_to_p(time_s).hour)\n",
    "fixed_test['time'] = test['time'].map(lambda time_s: their_time_to_p(time_s).hour)\n",
    "\n",
    "plt.rc('font', size=13)\n",
    "fig = plt.figure(figsize=(18, 8))\n",
    "alpha = 0.6\n",
    "\n",
    "ax1 = plt.subplot2grid((2,3), (0,0), colspan=2)\n",
    "fixed_train['time'].value_counts().plot(kind='hist', color='#FA2379', label='train', alpha=alpha)\n",
    "fixed_test['time'].value_counts().plot(kind='hist', label='test', alpha=alpha)\n",
    "ax1.set_xlabel('Hour')\n",
    "ax1.set_title(\"What's the distribution of tweet hours?\" )\n",
    "plt.legend(loc='best')\n",
    "\n",
    "fixed_trump = trump.copy(False)\n",
    "fixed_hilary = hilary.copy(False)\n",
    "\n",
    "fixed_trump['time'] = trump['time'].map(lambda time_s: their_time_to_p(time_s).hour)\n",
    "fixed_hilary['time'] = hilary['time'].map(lambda time_s: their_time_to_p(time_s).hour)\n",
    "\n",
    "ax2 = plt.subplot2grid((2,3), (1,0), colspan=2)\n",
    "fixed_trump['time'].plot(kind='hist', color='#FA2379', label='trump', alpha=alpha)\n",
    "fixed_hilary['time'].plot(kind='hist', label='hilary', alpha=alpha)\n",
    "ax2.set_xlabel('Hour')\n",
    "ax2.set_title(\"What's the hours of tweet hours?\" )\n",
    "plt.legend(loc='best')"
   ]
  },
  {
   "cell_type": "markdown",
   "metadata": {},
   "source": [
    "Seeing this we will have a huge bias towards trump. Really huge. It might be smart to ignore this or use a huge prior."
   ]
  }
 ],
 "metadata": {
  "kernelspec": {
   "display_name": "Python 3",
   "language": "python",
   "name": "python3"
  },
  "language_info": {
   "codemirror_mode": {
    "name": "ipython",
    "version": 3
   },
   "file_extension": ".py",
   "mimetype": "text/x-python",
   "name": "python",
   "nbconvert_exporter": "python",
   "pygments_lexer": "ipython3",
   "version": "3.5.2"
  }
 },
 "nbformat": 4,
 "nbformat_minor": 0
}
