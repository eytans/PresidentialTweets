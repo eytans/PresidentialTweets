{
 "cells": [
  {
   "cell_type": "code",
   "execution_count": 62,
   "metadata": {
    "collapsed": true
   },
   "outputs": [],
   "source": [
    "import numpy as np\n",
    "import pandas as pd\n",
    "from sklearn.model_selection import cross_val_score\n",
    "from sklearn.preprocessing import StandardScaler\n",
    "from sklearn.naive_bayes import MultinomialNB\n",
    "from sklearn.feature_extraction.text import CountVectorizer\n",
    "from sklearn.feature_extraction.text import TfidfTransformer"
   ]
  },
  {
   "cell_type": "code",
   "execution_count": 63,
   "metadata": {
    "collapsed": false
   },
   "outputs": [],
   "source": [
    "# load data\n",
    "train = pd.read_csv('tweets_train.csv')\n",
    "test = pd.read_csv('tweets_test.csv')\n"
   ]
  },
  {
   "cell_type": "code",
   "execution_count": 64,
   "metadata": {
    "collapsed": false
   },
   "outputs": [
    {
     "name": "stdout",
     "output_type": "stream",
     "text": [
      "id                 0\n",
      "text               0\n",
      "is_retweet         0\n",
      "original_author    0\n",
      "time               0\n",
      "is_quote_status    0\n",
      "lang               0\n",
      "retweet_count      0\n",
      "favorite_count     0\n",
      "dtype: int64\n"
     ]
    }
   ],
   "source": [
    "# preprocessing\n",
    "test.fillna(test.median())\n",
    "test = test.drop(['handle', 'in_reply_to_screen_name'],axis=1) \n",
    "test['original_author'] = test['original_author'].fillna('')\n",
    "print(test.isnull().sum())"
   ]
  },
  {
   "cell_type": "code",
   "execution_count": 65,
   "metadata": {
    "collapsed": false
   },
   "outputs": [
    {
     "data": {
      "text/html": [
       "<div>\n",
       "<table border=\"1\" class=\"dataframe\">\n",
       "  <thead>\n",
       "    <tr style=\"text-align: right;\">\n",
       "      <th></th>\n",
       "      <th>id</th>\n",
       "      <th>handle</th>\n",
       "      <th>text</th>\n",
       "      <th>is_retweet</th>\n",
       "      <th>original_author</th>\n",
       "      <th>time</th>\n",
       "      <th>lang</th>\n",
       "      <th>retweet_count</th>\n",
       "      <th>favorite_count</th>\n",
       "    </tr>\n",
       "  </thead>\n",
       "  <tbody>\n",
       "    <tr>\n",
       "      <th>0</th>\n",
       "      <td>7.810000e+17</td>\n",
       "      <td>HillaryClinton</td>\n",
       "      <td>The question in this election: Who can put the...</td>\n",
       "      <td>False</td>\n",
       "      <td>NaN</td>\n",
       "      <td>2016-09-28T00:22:34</td>\n",
       "      <td>en</td>\n",
       "      <td>218</td>\n",
       "      <td>651</td>\n",
       "    </tr>\n",
       "    <tr>\n",
       "      <th>1</th>\n",
       "      <td>7.810000e+17</td>\n",
       "      <td>HillaryClinton</td>\n",
       "      <td>Last night, Donald Trump said not paying taxes...</td>\n",
       "      <td>True</td>\n",
       "      <td>timkaine</td>\n",
       "      <td>2016-09-27T23:45:00</td>\n",
       "      <td>en</td>\n",
       "      <td>2445</td>\n",
       "      <td>5308</td>\n",
       "    </tr>\n",
       "    <tr>\n",
       "      <th>2</th>\n",
       "      <td>7.810000e+17</td>\n",
       "      <td>HillaryClinton</td>\n",
       "      <td>Couldn't be more proud of @HillaryClinton. Her...</td>\n",
       "      <td>True</td>\n",
       "      <td>POTUS</td>\n",
       "      <td>2016-09-27T23:26:40</td>\n",
       "      <td>en</td>\n",
       "      <td>7834</td>\n",
       "      <td>27234</td>\n",
       "    </tr>\n",
       "    <tr>\n",
       "      <th>3</th>\n",
       "      <td>7.810000e+17</td>\n",
       "      <td>HillaryClinton</td>\n",
       "      <td>If we stand together, there's nothing we can't...</td>\n",
       "      <td>False</td>\n",
       "      <td>NaN</td>\n",
       "      <td>2016-09-27T23:08:41</td>\n",
       "      <td>en</td>\n",
       "      <td>916</td>\n",
       "      <td>2542</td>\n",
       "    </tr>\n",
       "    <tr>\n",
       "      <th>4</th>\n",
       "      <td>7.810000e+17</td>\n",
       "      <td>HillaryClinton</td>\n",
       "      <td>Both candidates were asked about how they'd co...</td>\n",
       "      <td>False</td>\n",
       "      <td>NaN</td>\n",
       "      <td>2016-09-27T22:30:27</td>\n",
       "      <td>en</td>\n",
       "      <td>859</td>\n",
       "      <td>2882</td>\n",
       "    </tr>\n",
       "  </tbody>\n",
       "</table>\n",
       "</div>"
      ],
      "text/plain": [
       "             id          handle  \\\n",
       "0  7.810000e+17  HillaryClinton   \n",
       "1  7.810000e+17  HillaryClinton   \n",
       "2  7.810000e+17  HillaryClinton   \n",
       "3  7.810000e+17  HillaryClinton   \n",
       "4  7.810000e+17  HillaryClinton   \n",
       "\n",
       "                                                text is_retweet  \\\n",
       "0  The question in this election: Who can put the...      False   \n",
       "1  Last night, Donald Trump said not paying taxes...       True   \n",
       "2  Couldn't be more proud of @HillaryClinton. Her...       True   \n",
       "3  If we stand together, there's nothing we can't...      False   \n",
       "4  Both candidates were asked about how they'd co...      False   \n",
       "\n",
       "  original_author                 time lang  retweet_count  favorite_count  \n",
       "0             NaN  2016-09-28T00:22:34   en            218             651  \n",
       "1        timkaine  2016-09-27T23:45:00   en           2445            5308  \n",
       "2           POTUS  2016-09-27T23:26:40   en           7834           27234  \n",
       "3             NaN  2016-09-27T23:08:41   en            916            2542  \n",
       "4             NaN  2016-09-27T22:30:27   en            859            2882  "
      ]
     },
     "execution_count": 65,
     "metadata": {},
     "output_type": "execute_result"
    }
   ],
   "source": [
    "train.head()"
   ]
  },
  {
   "cell_type": "code",
   "execution_count": 66,
   "metadata": {
    "collapsed": false
   },
   "outputs": [],
   "source": [
    "# map hanle to category\n",
    "def allocate_category(handle):\n",
    "    if (handle == 'HillaryClinton'):\n",
    "        return 0\n",
    "    else:\n",
    "        return 1\n",
    "train['category'] = train['handle'].map(lambda handle: allocate_category(handle))"
   ]
  },
  {
   "cell_type": "code",
   "execution_count": 69,
   "metadata": {
    "collapsed": false
   },
   "outputs": [
    {
     "name": "stdout",
     "output_type": "stream",
     "text": [
      "   @count  #count  .count  ,count  retweet_count hilary_supporter    0    1  \\\n",
      "0       0       0       1       0            218            False  0.0  0.0   \n",
      "1       0       0       3       1           2445            False  0.0  0.0   \n",
      "2       2       0       2       0           7834            False  0.0  0.0   \n",
      "3       0       0       3       1            916            False  0.0  0.0   \n",
      "4       0       0       3       0            859            False  0.0  0.0   \n",
      "\n",
      "     2    3  ...   9344  9345  9346  9347  9348  9349  9350  9351  9352  9353  \n",
      "0  0.0  0.0  ...    0.0   0.0   0.0   0.0   0.0   0.0   0.0   0.0   0.0   0.0  \n",
      "1  0.0  0.0  ...    0.0   0.0   0.0   0.0   0.0   0.0   0.0   0.0   0.0   0.0  \n",
      "2  0.0  0.0  ...    0.0   0.0   0.0   0.0   0.0   0.0   0.0   0.0   0.0   0.0  \n",
      "3  0.0  0.0  ...    0.0   0.0   0.0   0.0   0.0   0.0   0.0   0.0   0.0   0.0  \n",
      "4  0.0  0.0  ...    0.0   0.0   0.0   0.0   0.0   0.0   0.0   0.0   0.0   0.0  \n",
      "\n",
      "[5 rows x 9360 columns]\n"
     ]
    }
   ],
   "source": [
    "# feature extraction\n",
    "count_vect = CountVectorizer()\n",
    "count_vect.fit(train.text)    \n",
    "tf_transformer = TfidfTransformer(use_idf=False).fit(count_vect.transform(train.text))\n",
    "# using both textual and non-textual features\n",
    "def get_manual_features(df):\n",
    "    df.fillna(df.mean())\n",
    "    res = pd.DataFrame()    \n",
    "    res.reindex(df.index)    \n",
    "    res['@count'] = df['text'].apply(lambda row: row.count('@'))\n",
    "    res['#count'] = df['text'].apply(lambda row: row.count('#'))\n",
    "    res['.count'] = df['text'].apply(lambda row: row.count('.'))\n",
    "    res[',count'] = df['text'].apply(lambda row: row.count(','))\n",
    "    res['retweet_count'] = df['retweet_count']\n",
    "    res['hilary_supporter'] = df['original_author'].apply(lambda row: row == 'HFA' or row == 'TheBriefing2016')\n",
    "    X_train_counts = count_vect.transform(df.text)    \n",
    "    X_train_tf = tf_transformer.transform(X_train_counts)\n",
    "    new = pd.DataFrame(columns=list(range(X_train_tf.shape[1])), index=list(range(res.shape[0])))\n",
    "    for i, row in enumerate(X_train_tf):\n",
    "        for col, j in enumerate(row.indices):\n",
    "            new.loc[i, j] = row.data[col]\n",
    "    new.set_index(res.index, inplace=True)\n",
    "    new = new.fillna(0)\n",
    "    #pd.SparseDataFrame([ pd.SparseSeries(X_train_tf[i].toarray().ravel()) \n",
    "#                              for i in np.arange(X_train_tf.shape[0]) ])\n",
    "    res = pd.concat([res,new],axis=1)\n",
    "    return res\n",
    "features = get_manual_features(train);\n",
    "print(features.head())"
   ]
  },
  {
   "cell_type": "code",
   "execution_count": 70,
   "metadata": {
    "collapsed": false
   },
   "outputs": [],
   "source": [
    "# expirimenting with different values of alpha\n",
    "alphas = [0.1, 0.2, 0.3, 0.4, 0.5, .6, .7 ,.8 ,.9, 1, 2, 10]"
   ]
  },
  {
   "cell_type": "code",
   "execution_count": 75,
   "metadata": {
    "collapsed": false,
    "scrolled": true
   },
   "outputs": [
    {
     "name": "stdout",
     "output_type": "stream",
     "text": [
      "alpha is 0.1 and average cross-validation error on train-set is: 0.887217476359\n",
      "alpha is 0.2 and average cross-validation error on train-set is: 0.884468084176\n",
      "alpha is 0.3 and average cross-validation error on train-set is: 0.88196994825\n",
      "alpha is 0.4 and average cross-validation error on train-set is: 0.881474945156\n",
      "alpha is 0.5 and average cross-validation error on train-set is: 0.880469942\n",
      "alpha is 0.6 and average cross-validation error on train-set is: 0.87897243889\n",
      "alpha is 0.7 and average cross-validation error on train-set is: 0.877226806105\n",
      "alpha is 0.8 and average cross-validation error on train-set is: 0.875978676429\n",
      "alpha is 0.9 and average cross-validation error on train-set is: 0.874727420171\n",
      "alpha is 1 and average cross-validation error on train-set is: 0.872979287371\n",
      "alpha is 2 and average cross-validation error on train-set is: 0.855491070257\n",
      "alpha is 10 and average cross-validation error on train-set is: 0.671002598454\n"
     ]
    }
   ],
   "source": [
    "# use cross-validation to approximate classifier generallity error\n",
    "for a in alphas:\n",
    "    complex_clf = MultinomialNB(alpha=a)\n",
    "    scores = cross_val_score(complex_clf, features, train.category, cv=10)\n",
    "    print('alpha is {} and average cross-validation error on train-set is: {}'.format(a, scores.mean()))"
   ]
  },
  {
   "cell_type": "code",
   "execution_count": 17,
   "metadata": {
    "collapsed": false
   },
   "outputs": [
    {
     "name": "stdout",
     "output_type": "stream",
     "text": [
      "alpha is 1e-05 and average cross-validation error on train-set is: 0.899964421653\n",
      "alpha is 0.001 and average cross-validation error on train-set is: 0.898960668504\n"
     ]
    }
   ],
   "source": [
    "# small values of alpha seems to work better, continuing exploring\n",
    "alphas = [0.00001, 0.001]\n",
    "# use cross-validation to approximate classifier generallity error\n",
    "for a in alphas:\n",
    "    complex_clf = MultinomialNB(alpha=a).fit(features, train.category)\n",
    "    scores = cross_val_score(complex_clf, features, train.category, cv=10)\n",
    "    print('alpha is {} and average cross-validation error on train-set is: {}'.format(a, scores.mean()))"
   ]
  },
  {
   "cell_type": "code",
   "execution_count": 18,
   "metadata": {
    "collapsed": false
   },
   "outputs": [
    {
     "name": "stdout",
     "output_type": "stream",
     "text": [
      "average cross-validation error on train-set is: 0.898960668504\n"
     ]
    }
   ],
   "source": [
    "a=0.001 # we use this value to avoid overfitting although as it seems, smaller values work better\n",
    "complex_clf = MultinomialNB(alpha=a)\n",
    "scores = cross_val_score(complex_clf, features, train.category, cv=10)\n",
    "print('average cross-validation error on train-set is: {}'.format(scores.mean()))"
   ]
  },
  {
   "cell_type": "markdown",
   "metadata": {},
   "source": [
    "Trying without fitting the prior just staying with uniform one"
   ]
  },
  {
   "cell_type": "code",
   "execution_count": 21,
   "metadata": {
    "collapsed": false
   },
   "outputs": [
    {
     "name": "stdout",
     "output_type": "stream",
     "text": [
      "alpha is 5e-05 and average cross-validation error on train-set is: 0.901968810743\n",
      "alpha is 0.0001 and average cross-validation error on train-set is: 0.903468196676\n",
      "alpha is 0.001 and average cross-validation error on train-set is: 0.899469421684\n",
      "alpha is 0.1 and average cross-validation error on train-set is: 0.885723099832\n",
      "alpha is 0.3 and average cross-validation error on train-set is: 0.880980581129\n",
      "alpha is 0.8 and average cross-validation error on train-set is: 0.87123115457\n"
     ]
    }
   ],
   "source": [
    "# experimenting different types of alphas with non-fitting for prior variation\n",
    "alphas = [0.00005, 0.0001, 0.001, 0.1, 0.3, 0.8]\n",
    "for a in alphas:\n",
    "    complex_clf = MultinomialNB(alpha=a, fit_prior=False)\n",
    "    scores = cross_val_score(complex_clf, features, train.category, cv=10)\n",
    "    print('alpha is {} and average cross-validation error on train-set is: {}'.format(a, scores.mean()))"
   ]
  },
  {
   "cell_type": "markdown",
   "metadata": {},
   "source": [
    "selected model comprised of: alpha = 0.0001, no fitting for prior"
   ]
  },
  {
   "cell_type": "code",
   "execution_count": 72,
   "metadata": {
    "collapsed": false
   },
   "outputs": [],
   "source": [
    "# predicting results\n",
    "complex_clf = MultinomialNB(alpha=0.0001, fit_prior=False).fit(features,train.category)\n",
    "test_features = get_manual_features(test)"
   ]
  },
  {
   "cell_type": "code",
   "execution_count": 73,
   "metadata": {
    "collapsed": false
   },
   "outputs": [
    {
     "data": {
      "text/plain": [
       "@count              0\n",
       "#count              0\n",
       ".count              0\n",
       ",count              0\n",
       "retweet_count       0\n",
       "hilary_supporter    0\n",
       "0                   0\n",
       "1                   0\n",
       "2                   0\n",
       "3                   0\n",
       "4                   0\n",
       "5                   0\n",
       "6                   0\n",
       "7                   0\n",
       "8                   0\n",
       "9                   0\n",
       "10                  0\n",
       "11                  0\n",
       "12                  0\n",
       "13                  0\n",
       "14                  0\n",
       "15                  0\n",
       "16                  0\n",
       "17                  0\n",
       "18                  0\n",
       "19                  0\n",
       "20                  0\n",
       "21                  0\n",
       "22                  0\n",
       "23                  0\n",
       "                   ..\n",
       "9324                0\n",
       "9325                0\n",
       "9326                0\n",
       "9327                0\n",
       "9328                0\n",
       "9329                0\n",
       "9330                0\n",
       "9331                0\n",
       "9332                0\n",
       "9333                0\n",
       "9334                0\n",
       "9335                0\n",
       "9336                0\n",
       "9337                0\n",
       "9338                0\n",
       "9339                0\n",
       "9340                0\n",
       "9341                0\n",
       "9342                0\n",
       "9343                0\n",
       "9344                0\n",
       "9345                0\n",
       "9346                0\n",
       "9347                0\n",
       "9348                0\n",
       "9349                0\n",
       "9350                0\n",
       "9351                0\n",
       "9352                0\n",
       "9353                0\n",
       "dtype: int64"
      ]
     },
     "execution_count": 73,
     "metadata": {},
     "output_type": "execute_result"
    }
   ],
   "source": [
    "# validating features\n",
    "test_features.isnull().sum()"
   ]
  },
  {
   "cell_type": "code",
   "execution_count": 74,
   "metadata": {
    "collapsed": false
   },
   "outputs": [],
   "source": [
    "# predicting handle v alues\n",
    "test['category'] = complex_clf.predict(test_features)\n",
    "def category_2_candidate(category):\n",
    "    if (category == 0):\n",
    "        return 'HillaryClinton'\n",
    "    else:\n",
    "        return 'realDonaldTrump'\n",
    "test['handle'] = test['category'].map(lambda category: category_2_candidate(category))"
   ]
  },
  {
   "cell_type": "code",
   "execution_count": 76,
   "metadata": {
    "collapsed": false
   },
   "outputs": [],
   "source": [
    "# saving results\n",
    "del test['category'] # deleting helper coloumn \n",
    "test.to_csv('Complex_tweets_test.csv',encoding='utf8',index = False)"
   ]
  },
  {
   "cell_type": "code",
   "execution_count": 77,
   "metadata": {
    "collapsed": false
   },
   "outputs": [
    {
     "data": {
      "text/html": [
       "<div>\n",
       "<table border=\"1\" class=\"dataframe\">\n",
       "  <thead>\n",
       "    <tr style=\"text-align: right;\">\n",
       "      <th></th>\n",
       "      <th>id</th>\n",
       "      <th>text</th>\n",
       "      <th>is_retweet</th>\n",
       "      <th>original_author</th>\n",
       "      <th>time</th>\n",
       "      <th>is_quote_status</th>\n",
       "      <th>lang</th>\n",
       "      <th>retweet_count</th>\n",
       "      <th>favorite_count</th>\n",
       "      <th>handle</th>\n",
       "    </tr>\n",
       "  </thead>\n",
       "  <tbody>\n",
       "    <tr>\n",
       "      <th>0</th>\n",
       "      <td>7.340000e+17</td>\n",
       "      <td>#MichaelBrown would have been 20 years old tod...</td>\n",
       "      <td>True</td>\n",
       "      <td>LSD_Esq</td>\n",
       "      <td>2016-05-20T18:07:08</td>\n",
       "      <td>False</td>\n",
       "      <td>en</td>\n",
       "      <td>594</td>\n",
       "      <td>1096</td>\n",
       "      <td>HillaryClinton</td>\n",
       "    </tr>\n",
       "    <tr>\n",
       "      <th>1</th>\n",
       "      <td>7.340000e+17</td>\n",
       "      <td>Congratulations on becoming a U.S. citizen, Al...</td>\n",
       "      <td>False</td>\n",
       "      <td>NaN</td>\n",
       "      <td>2016-05-20T17:24:12</td>\n",
       "      <td>False</td>\n",
       "      <td>en</td>\n",
       "      <td>1701</td>\n",
       "      <td>4239</td>\n",
       "      <td>HillaryClinton</td>\n",
       "    </tr>\n",
       "    <tr>\n",
       "      <th>2</th>\n",
       "      <td>7.340000e+17</td>\n",
       "      <td>We need a president who will unite leaders aro...</td>\n",
       "      <td>False</td>\n",
       "      <td>NaN</td>\n",
       "      <td>2016-05-20T17:12:52</td>\n",
       "      <td>False</td>\n",
       "      <td>en</td>\n",
       "      <td>1817</td>\n",
       "      <td>3577</td>\n",
       "      <td>HillaryClinton</td>\n",
       "    </tr>\n",
       "    <tr>\n",
       "      <th>3</th>\n",
       "      <td>7.340000e+17</td>\n",
       "      <td>Dear Congress,\\r\\n\\r\\nLet's get this done.\\r\\n...</td>\n",
       "      <td>False</td>\n",
       "      <td>NaN</td>\n",
       "      <td>2016-05-20T16:21:13</td>\n",
       "      <td>False</td>\n",
       "      <td>en</td>\n",
       "      <td>2530</td>\n",
       "      <td>6012</td>\n",
       "      <td>HillaryClinton</td>\n",
       "    </tr>\n",
       "    <tr>\n",
       "      <th>4</th>\n",
       "      <td>7.340000e+17</td>\n",
       "      <td>Failing @NYTimes will always take a good story...</td>\n",
       "      <td>False</td>\n",
       "      <td>NaN</td>\n",
       "      <td>2016-05-20T16:11:21</td>\n",
       "      <td>False</td>\n",
       "      <td>en</td>\n",
       "      <td>3750</td>\n",
       "      <td>12372</td>\n",
       "      <td>realDonaldTrump</td>\n",
       "    </tr>\n",
       "  </tbody>\n",
       "</table>\n",
       "</div>"
      ],
      "text/plain": [
       "             id                                               text is_retweet  \\\n",
       "0  7.340000e+17  #MichaelBrown would have been 20 years old tod...       True   \n",
       "1  7.340000e+17  Congratulations on becoming a U.S. citizen, Al...      False   \n",
       "2  7.340000e+17  We need a president who will unite leaders aro...      False   \n",
       "3  7.340000e+17  Dear Congress,\\r\\n\\r\\nLet's get this done.\\r\\n...      False   \n",
       "4  7.340000e+17  Failing @NYTimes will always take a good story...      False   \n",
       "\n",
       "  original_author                 time is_quote_status lang  retweet_count  \\\n",
       "0         LSD_Esq  2016-05-20T18:07:08           False   en            594   \n",
       "1             NaN  2016-05-20T17:24:12           False   en           1701   \n",
       "2             NaN  2016-05-20T17:12:52           False   en           1817   \n",
       "3             NaN  2016-05-20T16:21:13           False   en           2530   \n",
       "4             NaN  2016-05-20T16:11:21           False   en           3750   \n",
       "\n",
       "   favorite_count           handle  \n",
       "0            1096   HillaryClinton  \n",
       "1            4239   HillaryClinton  \n",
       "2            3577   HillaryClinton  \n",
       "3            6012   HillaryClinton  \n",
       "4           12372  realDonaldTrump  "
      ]
     },
     "execution_count": 77,
     "metadata": {},
     "output_type": "execute_result"
    }
   ],
   "source": [
    "# sainity check for results\n",
    "test_from_save = pd.read_csv('Complex_tweets_test.csv')\n",
    "test_from_save.head()"
   ]
  },
  {
   "cell_type": "code",
   "execution_count": null,
   "metadata": {
    "collapsed": true
   },
   "outputs": [],
   "source": []
  }
 ],
 "metadata": {
  "anaconda-cloud": {},
  "kernelspec": {
   "display_name": "Python [conda root]",
   "language": "python",
   "name": "conda-root-py"
  },
  "language_info": {
   "codemirror_mode": {
    "name": "ipython",
    "version": 2
   },
   "file_extension": ".py",
   "mimetype": "text/x-python",
   "name": "python",
   "nbconvert_exporter": "python",
   "pygments_lexer": "ipython2",
   "version": "2.7.12"
  }
 },
 "nbformat": 4,
 "nbformat_minor": 1
}
